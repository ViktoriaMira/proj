{
 "cells": [
  {
   "cell_type": "markdown",
   "metadata": {},
   "source": [
    "# Numpy"
   ]
  },
  {
   "cell_type": "markdown",
   "metadata": {},
   "source": [
    "#### 1.Создать вектор (одномерный массив) размера 100, заполненный нулями"
   ]
  },
  {
   "cell_type": "code",
   "execution_count": 2,
   "metadata": {},
   "outputs": [
    {
     "data": {
      "text/plain": [
       "array([0., 0., 0., 0., 0., 0., 0., 0., 0., 0., 0., 0., 0., 0., 0., 0., 0.,\n",
       "       0., 0., 0., 0., 0., 0., 0., 0., 0., 0., 0., 0., 0., 0., 0., 0., 0.,\n",
       "       0., 0., 0., 0., 0., 0., 0., 0., 0., 0., 0., 0., 0., 0., 0., 0., 0.,\n",
       "       0., 0., 0., 0., 0., 0., 0., 0., 0., 0., 0., 0., 0., 0., 0., 0., 0.,\n",
       "       0., 0., 0., 0., 0., 0., 0., 0., 0., 0., 0., 0., 0., 0., 0., 0., 0.,\n",
       "       0., 0., 0., 0., 0., 0., 0., 0., 0., 0., 0., 0., 0., 0., 0.])"
      ]
     },
     "execution_count": 2,
     "metadata": {},
     "output_type": "execute_result"
    }
   ],
   "source": [
    "#Мирзоян Виктория\n",
    "import numpy as np\n",
    "a=np.zeros(100)\n",
    "a"
   ]
  },
  {
   "cell_type": "markdown",
   "metadata": {},
   "source": [
    "#### 2.Создать вектор размера 100, заполненный единицами"
   ]
  },
  {
   "cell_type": "code",
   "execution_count": 2,
   "metadata": {},
   "outputs": [
    {
     "data": {
      "text/plain": [
       "array([1., 1., 1., 1., 1., 1., 1., 1., 1., 1., 1., 1., 1., 1., 1., 1., 1.,\n",
       "       1., 1., 1., 1., 1., 1., 1., 1., 1., 1., 1., 1., 1., 1., 1., 1., 1.,\n",
       "       1., 1., 1., 1., 1., 1., 1., 1., 1., 1., 1., 1., 1., 1., 1., 1., 1.,\n",
       "       1., 1., 1., 1., 1., 1., 1., 1., 1., 1., 1., 1., 1., 1., 1., 1., 1.,\n",
       "       1., 1., 1., 1., 1., 1., 1., 1., 1., 1., 1., 1., 1., 1., 1., 1., 1.,\n",
       "       1., 1., 1., 1., 1., 1., 1., 1., 1., 1., 1., 1., 1., 1., 1.])"
      ]
     },
     "execution_count": 2,
     "metadata": {},
     "output_type": "execute_result"
    }
   ],
   "source": [
    "a=np.ones(100)\n",
    "a"
   ]
  },
  {
   "cell_type": "markdown",
   "metadata": {},
   "source": [
    "#### 3.Создать вектор размера 100, заполненный числом 3"
   ]
  },
  {
   "cell_type": "code",
   "execution_count": 3,
   "metadata": {},
   "outputs": [
    {
     "data": {
      "text/plain": [
       "array([3, 3, 3, 3, 3, 3, 3, 3, 3, 3, 3, 3, 3, 3, 3, 3, 3, 3, 3, 3, 3, 3,\n",
       "       3, 3, 3, 3, 3, 3, 3, 3, 3, 3, 3, 3, 3, 3, 3, 3, 3, 3, 3, 3, 3, 3,\n",
       "       3, 3, 3, 3, 3, 3, 3, 3, 3, 3, 3, 3, 3, 3, 3, 3, 3, 3, 3, 3, 3, 3,\n",
       "       3, 3, 3, 3, 3, 3, 3, 3, 3, 3, 3, 3, 3, 3, 3, 3, 3, 3, 3, 3, 3, 3,\n",
       "       3, 3, 3, 3, 3, 3, 3, 3, 3, 3, 3, 3])"
      ]
     },
     "execution_count": 3,
     "metadata": {},
     "output_type": "execute_result"
    }
   ],
   "source": [
    "a=np.full(100,3)\n",
    "a"
   ]
  },
  {
   "cell_type": "markdown",
   "metadata": {},
   "source": [
    "#### 4. Как получить документацию о функции numpy.add из командной строки?"
   ]
  },
  {
   "cell_type": "code",
   "execution_count": 4,
   "metadata": {},
   "outputs": [
    {
     "name": "stdout",
     "output_type": "stream",
     "text": [
      "add(x1, x2, /, out=None, *, where=True, casting='same_kind', order='K', dtype=None, subok=True[, signature, extobj])\n",
      "\n",
      "Add arguments element-wise.\n",
      "\n",
      "Parameters\n",
      "----------\n",
      "x1, x2 : array_like\n",
      "    The arrays to be added.  If ``x1.shape != x2.shape``, they must be\n",
      "    broadcastable to a common shape (which may be the shape of one or\n",
      "    the other).\n",
      "out : ndarray, None, or tuple of ndarray and None, optional\n",
      "    A location into which the result is stored. If provided, it must have\n",
      "    a shape that the inputs broadcast to. If not provided or `None`,\n",
      "    a freshly-allocated array is returned. A tuple (possible only as a\n",
      "    keyword argument) must have length equal to the number of outputs.\n",
      "where : array_like, optional\n",
      "    Values of True indicate to calculate the ufunc at that position, values\n",
      "    of False indicate to leave the value in the output alone.\n",
      "**kwargs\n",
      "    For other keyword-only arguments, see the\n",
      "    :ref:`ufunc docs <ufuncs.kwargs>`.\n",
      "\n",
      "Returns\n",
      "-------\n",
      "add : ndarray or scalar\n",
      "    The sum of `x1` and `x2`, element-wise.\n",
      "    This is a scalar if both `x1` and `x2` are scalars.\n",
      "\n",
      "Notes\n",
      "-----\n",
      "Equivalent to `x1` + `x2` in terms of array broadcasting.\n",
      "\n",
      "Examples\n",
      "--------\n",
      ">>> np.add(1.0, 4.0)\n",
      "5.0\n",
      ">>> x1 = np.arange(9.0).reshape((3, 3))\n",
      ">>> x2 = np.arange(3.0)\n",
      ">>> np.add(x1, x2)\n",
      "array([[  0.,   2.,   4.],\n",
      "       [  3.,   5.,   7.],\n",
      "       [  6.,   8.,  10.]])\n"
     ]
    }
   ],
   "source": [
    "import numpy; numpy.info(numpy.add)"
   ]
  },
  {
   "cell_type": "markdown",
   "metadata": {},
   "source": [
    "#### 5. Поменять 2 строки в матрице"
   ]
  },
  {
   "cell_type": "code",
   "execution_count": 5,
   "metadata": {},
   "outputs": [
    {
     "name": "stdout",
     "output_type": "stream",
     "text": [
      "[[ 0  1  2  3]\n",
      " [ 4  5  6  7]\n",
      " [ 8  9 10 11]\n",
      " [12 13 14 15]]\n"
     ]
    },
    {
     "data": {
      "text/plain": [
       "array([[ 4,  5,  6,  7],\n",
       "       [ 0,  1,  2,  3],\n",
       "       [ 8,  9, 10, 11],\n",
       "       [12, 13, 14, 15]])"
      ]
     },
     "execution_count": 5,
     "metadata": {},
     "output_type": "execute_result"
    }
   ],
   "source": [
    "a=np.arange(16).reshape(4,4)\n",
    "print(a)\n",
    "a[[0,1]]=a[[1,0]]\n",
    "a"
   ]
  },
  {
   "cell_type": "markdown",
   "metadata": {},
   "source": [
    "#### 6. Создать вектор со значениями от 10 до 100"
   ]
  },
  {
   "cell_type": "code",
   "execution_count": 6,
   "metadata": {},
   "outputs": [
    {
     "data": {
      "text/plain": [
       "array([ 10,  11,  12,  13,  14,  15,  16,  17,  18,  19,  20,  21,  22,\n",
       "        23,  24,  25,  26,  27,  28,  29,  30,  31,  32,  33,  34,  35,\n",
       "        36,  37,  38,  39,  40,  41,  42,  43,  44,  45,  46,  47,  48,\n",
       "        49,  50,  51,  52,  53,  54,  55,  56,  57,  58,  59,  60,  61,\n",
       "        62,  63,  64,  65,  66,  67,  68,  69,  70,  71,  72,  73,  74,\n",
       "        75,  76,  77,  78,  79,  80,  81,  82,  83,  84,  85,  86,  87,\n",
       "        88,  89,  90,  91,  92,  93,  94,  95,  96,  97,  98,  99, 100])"
      ]
     },
     "execution_count": 6,
     "metadata": {},
     "output_type": "execute_result"
    }
   ],
   "source": [
    "a=np.arange(10,101)\n",
    "a"
   ]
  },
  {
   "cell_type": "markdown",
   "metadata": {},
   "source": [
    "#### 7. Развернуть вектор (первый становится последним)"
   ]
  },
  {
   "cell_type": "code",
   "execution_count": 7,
   "metadata": {},
   "outputs": [
    {
     "name": "stdout",
     "output_type": "stream",
     "text": [
      "[ 0  1  2  3  4  5  6  7  8  9 10 11 12 13 14 15 16 17 18 19]\n"
     ]
    },
    {
     "data": {
      "text/plain": [
       "array([19, 18, 17, 16, 15, 14, 13, 12, 11, 10,  9,  8,  7,  6,  5,  4,  3,\n",
       "        2,  1,  0])"
      ]
     },
     "execution_count": 7,
     "metadata": {},
     "output_type": "execute_result"
    }
   ],
   "source": [
    "b=np.arange(20)\n",
    "print(b)\n",
    "b=b[::-1]\n",
    "b"
   ]
  },
  {
   "cell_type": "markdown",
   "metadata": {},
   "source": [
    "#### 8. Создать матрицу (двумерный массив) 4x4 со значениями от 0 до 16"
   ]
  },
  {
   "cell_type": "code",
   "execution_count": 8,
   "metadata": {},
   "outputs": [
    {
     "data": {
      "text/plain": [
       "array([[ 0,  1,  2,  3],\n",
       "       [ 4,  5,  6,  7],\n",
       "       [ 8,  9, 10, 11],\n",
       "       [12, 13, 14, 15]])"
      ]
     },
     "execution_count": 8,
     "metadata": {},
     "output_type": "execute_result"
    }
   ],
   "source": [
    "a=np.arange(16).reshape(4,4)\n",
    "a\n"
   ]
  },
  {
   "cell_type": "markdown",
   "metadata": {},
   "source": [
    "#### 9.  Дан вектор [1, 2, 3, 4, 5], построить новый вектор с тремя нулями между каждым значением"
   ]
  },
  {
   "cell_type": "code",
   "execution_count": 9,
   "metadata": {},
   "outputs": [
    {
     "name": "stdout",
     "output_type": "stream",
     "text": [
      "[1 2 3 4 5]\n"
     ]
    },
    {
     "data": {
      "text/plain": [
       "array([1., 0., 0., 0., 2., 0., 0., 0., 3., 0., 0., 0., 4., 0., 0., 0., 5.])"
      ]
     },
     "execution_count": 9,
     "metadata": {},
     "output_type": "execute_result"
    }
   ],
   "source": [
    "b=np.arange(1,6)\n",
    "print(b)\n",
    "c=np.zeros(17)\n",
    "c[::4]=b\n",
    "c\n"
   ]
  },
  {
   "cell_type": "markdown",
   "metadata": {},
   "source": [
    "#### 10. Создать 3x3 единичную матрицу"
   ]
  },
  {
   "cell_type": "code",
   "execution_count": 10,
   "metadata": {},
   "outputs": [
    {
     "data": {
      "text/plain": [
       "array([[1., 0., 0.],\n",
       "       [0., 1., 0.],\n",
       "       [0., 0., 1.]])"
      ]
     },
     "execution_count": 10,
     "metadata": {},
     "output_type": "execute_result"
    }
   ],
   "source": [
    "a=np.eye(3)\n",
    "a"
   ]
  },
  {
   "cell_type": "markdown",
   "metadata": {},
   "source": [
    "#### 11. Создать массив 3x3x3 со случайными значениями"
   ]
  },
  {
   "cell_type": "code",
   "execution_count": 11,
   "metadata": {},
   "outputs": [
    {
     "data": {
      "text/plain": [
       "array([[[0.97037389, 0.97585732, 0.87712725],\n",
       "        [0.20055812, 0.83713264, 0.56856429],\n",
       "        [0.32743271, 0.05785559, 0.82740435]],\n",
       "\n",
       "       [[0.68095287, 0.55115706, 0.65214797],\n",
       "        [0.12081781, 0.9071953 , 0.51320429],\n",
       "        [0.30082775, 0.21437255, 0.84370762]],\n",
       "\n",
       "       [[0.31244011, 0.66820975, 0.9577595 ],\n",
       "        [0.64701055, 0.21548633, 0.98967021],\n",
       "        [0.23211445, 0.42121722, 0.88821137]]])"
      ]
     },
     "execution_count": 11,
     "metadata": {},
     "output_type": "execute_result"
    }
   ],
   "source": [
    "a=np.random.random((3,3,3))\n",
    "a"
   ]
  },
  {
   "cell_type": "markdown",
   "metadata": {},
   "source": [
    "#### 12. Создать массив 10x10 со случайными значениями, найти минимум и максимум"
   ]
  },
  {
   "cell_type": "code",
   "execution_count": 12,
   "metadata": {},
   "outputs": [
    {
     "name": "stdout",
     "output_type": "stream",
     "text": [
      "[[0.65135652 0.73593754 0.32402485 0.73871475 0.43019759 0.59204684\n",
      "  0.39671897 0.11449601 0.08860857 0.97177995]\n",
      " [0.42304539 0.63329369 0.84257089 0.66563617 0.05168438 0.84997138\n",
      "  0.48658012 0.40566514 0.76411335 0.43957998]\n",
      " [0.66070189 0.46385294 0.15904721 0.83239415 0.87020711 0.58525645\n",
      "  0.2795562  0.43185681 0.53146322 0.78682624]\n",
      " [0.29621151 0.45302992 0.7647857  0.87223618 0.58515566 0.5587554\n",
      "  0.79350718 0.35278058 0.03911938 0.49011555]\n",
      " [0.44475544 0.92312057 0.5686575  0.40385321 0.61131013 0.81206252\n",
      "  0.65714392 0.16961965 0.3438341  0.78631801]\n",
      " [0.08453945 0.62648056 0.97838808 0.25332832 0.26232339 0.79159021\n",
      "  0.9688422  0.37896291 0.60134075 0.92246229]\n",
      " [0.30149216 0.74622112 0.46972466 0.7078404  0.72785244 0.60231836\n",
      "  0.91729446 0.50410261 0.21734678 0.8541258 ]\n",
      " [0.94297068 0.26444808 0.48339119 0.25077777 0.13625984 0.47580712\n",
      "  0.9840524  0.95472709 0.48205061 0.28617419]\n",
      " [0.4839113  0.17989058 0.66879428 0.61133806 0.68156799 0.50168797\n",
      "  0.48452802 0.06238772 0.92422395 0.66382917]\n",
      " [0.86008836 0.40452207 0.13934655 0.42158489 0.70231709 0.59756133\n",
      "  0.77091468 0.61968968 0.14081147 0.5922763 ]]\n",
      "0.039119378875226984 0.9840524046290708\n"
     ]
    }
   ],
   "source": [
    "a=np.random.random((10,10))\n",
    "print(a)\n",
    "print(a.min(),a.max())"
   ]
  },
  {
   "cell_type": "markdown",
   "metadata": {},
   "source": [
    "#### 13. Создать случайный вектор размера 30 и найти среднее значение всех элементов"
   ]
  },
  {
   "cell_type": "code",
   "execution_count": 13,
   "metadata": {},
   "outputs": [
    {
     "data": {
      "text/plain": [
       "0.5433506748930739"
      ]
     },
     "execution_count": 13,
     "metadata": {},
     "output_type": "execute_result"
    }
   ],
   "source": [
    "a=np.random.random((30))\n",
    "a.mean()"
   ]
  },
  {
   "cell_type": "markdown",
   "metadata": {},
   "source": [
    "#### 14. Создать матрицу с 0 внутри, и 1 на границах"
   ]
  },
  {
   "cell_type": "code",
   "execution_count": 14,
   "metadata": {},
   "outputs": [
    {
     "data": {
      "text/plain": [
       "array([[1., 1., 1., 1.],\n",
       "       [1., 0., 0., 1.],\n",
       "       [1., 0., 0., 1.],\n",
       "       [1., 1., 1., 1.]])"
      ]
     },
     "execution_count": 14,
     "metadata": {},
     "output_type": "execute_result"
    }
   ],
   "source": [
    "a=np.ones((4,4))\n",
    "a[1:3,1:3]=0\n",
    "a"
   ]
  },
  {
   "cell_type": "markdown",
   "metadata": {},
   "source": [
    "#### 15. Выяснить результат следующих выражений"
   ]
  },
  {
   "cell_type": "code",
   "execution_count": null,
   "metadata": {},
   "outputs": [],
   "source": []
  },
  {
   "cell_type": "markdown",
   "metadata": {},
   "source": [
    "#### 16. Создать 5x5 матрицу с 1,2,2,4 под диагональю"
   ]
  },
  {
   "cell_type": "code",
   "execution_count": 15,
   "metadata": {},
   "outputs": [
    {
     "data": {
      "text/plain": [
       "array([[1, 0, 0, 0, 0],\n",
       "       [0, 2, 0, 0, 0],\n",
       "       [0, 0, 2, 0, 0],\n",
       "       [0, 0, 0, 4, 0],\n",
       "       [0, 0, 0, 0, 0]])"
      ]
     },
     "execution_count": 15,
     "metadata": {},
     "output_type": "execute_result"
    }
   ],
   "source": [
    "a=np.diag(np.array([1, 2, 2, 4, 0]))\n",
    "a"
   ]
  },
  {
   "cell_type": "markdown",
   "metadata": {},
   "source": [
    "#### 17. Создать 8x8 матрицу и заполнить её в шахматном порядке"
   ]
  },
  {
   "cell_type": "code",
   "execution_count": 16,
   "metadata": {},
   "outputs": [
    {
     "data": {
      "text/plain": [
       "array([[1., 0., 1., 0., 1., 0., 1., 0.],\n",
       "       [0., 1., 0., 1., 0., 1., 0., 1.],\n",
       "       [1., 0., 1., 0., 1., 0., 1., 0.],\n",
       "       [0., 1., 0., 1., 0., 1., 0., 1.],\n",
       "       [1., 0., 1., 0., 1., 0., 1., 0.],\n",
       "       [0., 1., 0., 1., 0., 1., 0., 1.],\n",
       "       [1., 0., 1., 0., 1., 0., 1., 0.],\n",
       "       [0., 1., 0., 1., 0., 1., 0., 1.]])"
      ]
     },
     "execution_count": 16,
     "metadata": {},
     "output_type": "execute_result"
    }
   ],
   "source": [
    "b=np.zeros((8,8))\n",
    "b[1::2,1::2]=1\n",
    "b[::2,::2]=1\n",
    "b"
   ]
  },
  {
   "cell_type": "markdown",
   "metadata": {},
   "source": [
    "#### 18. Дан массив размерности (6,7,8). Каков индекс (x,y,z) сотого элемента?"
   ]
  },
  {
   "cell_type": "code",
   "execution_count": 17,
   "metadata": {},
   "outputs": [
    {
     "data": {
      "text/plain": [
       "(1, 5, 4)"
      ]
     },
     "execution_count": 17,
     "metadata": {},
     "output_type": "execute_result"
    }
   ],
   "source": [
    "a=numpy.unravel_index(100,(6,7,8))\n",
    "a"
   ]
  },
  {
   "cell_type": "markdown",
   "metadata": {},
   "source": [
    "#### 19. Создать 8x8 матрицу и заполнить её в шахматном порядке, используя функцию tile"
   ]
  },
  {
   "cell_type": "code",
   "execution_count": 18,
   "metadata": {},
   "outputs": [
    {
     "data": {
      "text/plain": [
       "array([[1, 0, 1, 0, 1, 0, 1, 0],\n",
       "       [0, 1, 0, 1, 0, 1, 0, 1],\n",
       "       [1, 0, 1, 0, 1, 0, 1, 0],\n",
       "       [0, 1, 0, 1, 0, 1, 0, 1],\n",
       "       [1, 0, 1, 0, 1, 0, 1, 0],\n",
       "       [0, 1, 0, 1, 0, 1, 0, 1],\n",
       "       [1, 0, 1, 0, 1, 0, 1, 0],\n",
       "       [0, 1, 0, 1, 0, 1, 0, 1]])"
      ]
     },
     "execution_count": 18,
     "metadata": {},
     "output_type": "execute_result"
    }
   ],
   "source": [
    "a=np.tile(np.array([[1,0],[0,1]]),(4,4))\n",
    "a"
   ]
  },
  {
   "cell_type": "markdown",
   "metadata": {},
   "source": [
    "#### 20. Перемножить матрицы 5x3 и 3x2"
   ]
  },
  {
   "cell_type": "code",
   "execution_count": 19,
   "metadata": {},
   "outputs": [
    {
     "name": "stdout",
     "output_type": "stream",
     "text": [
      "[[0.64596514 0.63028738 0.38472706]\n",
      " [0.22835988 0.92511447 0.97974365]\n",
      " [0.04432971 0.54670145 0.05530351]\n",
      " [0.20372056 0.16108201 0.39172948]\n",
      " [0.04943203 0.52871656 0.2891119 ]]\n",
      "[[0.59441372 0.5140521 ]\n",
      " [0.57430544 0.58939057]\n",
      " [0.96490852 0.07038984]]\n"
     ]
    },
    {
     "data": {
      "text/plain": [
       "array([[1.11717443, 0.73062605],\n",
       "       [1.61240151, 0.73160662],\n",
       "       [0.39368663, 0.34890126],\n",
       "       [0.59158768, 0.22723697],\n",
       "       [0.61199441, 0.35738173]])"
      ]
     },
     "execution_count": 19,
     "metadata": {},
     "output_type": "execute_result"
    }
   ],
   "source": [
    "a=np.random.random(15).reshape(5,3)\n",
    "b=np.random.random(6).reshape(3,2)\n",
    "print(a)\n",
    "print(b)\n",
    "c=np.dot(a,b)\n",
    "c"
   ]
  },
  {
   "cell_type": "markdown",
   "metadata": {},
   "source": [
    "#### 21. Дан массив, поменять знак у элементов, значения которых между 3 и 8"
   ]
  },
  {
   "cell_type": "code",
   "execution_count": 20,
   "metadata": {},
   "outputs": [
    {
     "data": {
      "text/plain": [
       "array([ 0.15338781,  0.90306652,  0.45754423,  0.9348804 , -0.10297727,\n",
       "       -0.58890134, -0.2465482 , -0.50048427,  0.44005253,  0.32496274])"
      ]
     },
     "execution_count": 20,
     "metadata": {},
     "output_type": "execute_result"
    }
   ],
   "source": [
    "a=np.random.random(10)\n",
    "a[4:8]*=-1\n",
    "a"
   ]
  },
  {
   "cell_type": "markdown",
   "metadata": {},
   "source": [
    "#### 23. Создать 5x5 матрицу со значениями в строках от 0 до 4"
   ]
  },
  {
   "cell_type": "code",
   "execution_count": 21,
   "metadata": {},
   "outputs": [
    {
     "data": {
      "text/plain": [
       "array([[0., 1., 2., 3., 4.],\n",
       "       [0., 1., 2., 3., 4.],\n",
       "       [0., 1., 2., 3., 4.],\n",
       "       [0., 1., 2., 3., 4.],\n",
       "       [0., 1., 2., 3., 4.]])"
      ]
     },
     "execution_count": 21,
     "metadata": {},
     "output_type": "execute_result"
    }
   ],
   "source": [
    "a=np.zeros((5,5))\n",
    "b=np.arange(5)\n",
    "a=a+b\n",
    "a"
   ]
  },
  {
   "cell_type": "markdown",
   "metadata": {},
   "source": [
    "#### 24. Есть генератор, сделать с его помощью массив"
   ]
  },
  {
   "cell_type": "code",
   "execution_count": 26,
   "metadata": {},
   "outputs": [
    {
     "data": {
      "text/plain": [
       "array([0., 1., 2., 3., 4., 5., 6., 7., 8., 9.])"
      ]
     },
     "execution_count": 26,
     "metadata": {},
     "output_type": "execute_result"
    }
   ],
   "source": [
    "def generator():\n",
    "    for a in range(10):\n",
    "        yield a\n",
    "b=np.fromiter(generator(),dtype=int)\n",
    "a"
   ]
  },
  {
   "cell_type": "markdown",
   "metadata": {},
   "source": [
    "#### 25. Создать вектор размера 10 со значениями от 0 до 1, не включая ни то, ни другое"
   ]
  },
  {
   "cell_type": "code",
   "execution_count": 130,
   "metadata": {},
   "outputs": [
    {
     "data": {
      "text/plain": [
       "array([0.1, 0.2, 0.3, 0.4, 0.5, 0.6, 0.7, 0.8, 0.9])"
      ]
     },
     "execution_count": 130,
     "metadata": {},
     "output_type": "execute_result"
    }
   ],
   "source": [
    "a=np.linspace(0,1,10,endpoint=False)[1::]\n",
    "a"
   ]
  },
  {
   "cell_type": "markdown",
   "metadata": {},
   "source": [
    "#### 26. Отсортировать вектор"
   ]
  },
  {
   "cell_type": "code",
   "execution_count": 132,
   "metadata": {},
   "outputs": [
    {
     "name": "stdout",
     "output_type": "stream",
     "text": [
      "[0.67531867 0.07769948 0.06448268 0.90000023 0.0728275 ]\n"
     ]
    },
    {
     "data": {
      "text/plain": [
       "array([0.06448268, 0.0728275 , 0.07769948, 0.67531867, 0.90000023])"
      ]
     },
     "execution_count": 132,
     "metadata": {},
     "output_type": "execute_result"
    }
   ],
   "source": [
    "a=np.random.random(5)\n",
    "print(a)\n",
    "a.sort()\n",
    "a"
   ]
  },
  {
   "cell_type": "markdown",
   "metadata": {},
   "source": [
    "#### 27. Проверить, одинаковы ли 2 numpy массива"
   ]
  },
  {
   "cell_type": "code",
   "execution_count": 136,
   "metadata": {},
   "outputs": [
    {
     "data": {
      "text/plain": [
       "False"
      ]
     },
     "execution_count": 136,
     "metadata": {},
     "output_type": "execute_result"
    }
   ],
   "source": [
    "a=np.random.random(5)\n",
    "b=np.random.random(5)\n",
    "np.allclose(a,b)"
   ]
  },
  {
   "cell_type": "markdown",
   "metadata": {},
   "source": [
    "#### 28. Сделать массив неизменяемым"
   ]
  },
  {
   "cell_type": "code",
   "execution_count": 29,
   "metadata": {},
   "outputs": [
    {
     "data": {
      "text/plain": [
       "(0.14799924852594526,\n",
       " 0.7999853442602981,\n",
       " 0.8398100582808774,\n",
       " 0.5264693283701524,\n",
       " 0.7583698293842357)"
      ]
     },
     "execution_count": 29,
     "metadata": {},
     "output_type": "execute_result"
    }
   ],
   "source": [
    "a=tuple(np.random.random(5))\n",
    "a"
   ]
  },
  {
   "cell_type": "markdown",
   "metadata": {},
   "source": [
    "#### 29. Найти n наибольших значений в массиве"
   ]
  },
  {
   "cell_type": "code",
   "execution_count": 37,
   "metadata": {},
   "outputs": [
    {
     "name": "stdout",
     "output_type": "stream",
     "text": [
      "[0.07281254 0.08397338 0.34198262 0.38680473 0.42563681 0.48472137\n",
      " 0.52443263 0.61846339 0.68124629 0.97741535]\n"
     ]
    },
    {
     "data": {
      "text/plain": [
       "array([0.97741535, 0.68124629, 0.61846339, 0.52443263])"
      ]
     },
     "execution_count": 37,
     "metadata": {},
     "output_type": "execute_result"
    }
   ],
   "source": [
    "a=np.random.random(10)\n",
    "a.sort()\n",
    "n=4\n",
    "print(a)\n",
    "a[len(a)-1:len(a)-n-1:-1]"
   ]
  },
  {
   "cell_type": "markdown",
   "metadata": {},
   "source": [
    "#### 30. Заменить максимальный элемент на ноль"
   ]
  },
  {
   "cell_type": "code",
   "execution_count": 40,
   "metadata": {},
   "outputs": [
    {
     "name": "stdout",
     "output_type": "stream",
     "text": [
      "[0.01665466 0.63542002 0.07106069 0.21706502 0.15776859 0.14565495\n",
      " 0.62802687 0.28500423 0.61440442 0.49352456]\n",
      "[0.01665466 0.         0.07106069 0.21706502 0.15776859 0.14565495\n",
      " 0.62802687 0.28500423 0.61440442 0.49352456]\n"
     ]
    }
   ],
   "source": [
    "a=np.random.random(10)\n",
    "print(a)\n",
    "a[np.argmax(a)]=0\n",
    "print(a)"
   ]
  },
  {
   "cell_type": "markdown",
   "metadata": {},
   "source": [
    "#### 31. Создать структурированный массив с координатами x, y на сетке в квадрате [0,1]x[0,1]"
   ]
  },
  {
   "cell_type": "code",
   "execution_count": null,
   "metadata": {},
   "outputs": [],
   "source": []
  },
  {
   "cell_type": "markdown",
   "metadata": {},
   "source": [
    "#### 32. Из двух массивов сделать матрицу Коши C (Cij = 1/(xi - yj))"
   ]
  },
  {
   "cell_type": "code",
   "execution_count": 7,
   "metadata": {},
   "outputs": [
    {
     "name": "stdout",
     "output_type": "stream",
     "text": [
      "[0 1 2 3 4 5 6 7 8 9]\n"
     ]
    },
    {
     "data": {
      "text/plain": [
       "array([[-0.09090909, -0.08333333, -0.07692308, -0.07142857],\n",
       "       [-0.1       , -0.09090909, -0.08333333, -0.07692308],\n",
       "       [-0.11111111, -0.1       , -0.09090909, -0.08333333],\n",
       "       [-0.125     , -0.11111111, -0.1       , -0.09090909],\n",
       "       [-0.14285714, -0.125     , -0.11111111, -0.1       ],\n",
       "       [-0.16666667, -0.14285714, -0.125     , -0.11111111],\n",
       "       [-0.2       , -0.16666667, -0.14285714, -0.125     ],\n",
       "       [-0.25      , -0.2       , -0.16666667, -0.14285714],\n",
       "       [-0.33333333, -0.25      , -0.2       , -0.16666667],\n",
       "       [-0.5       , -0.33333333, -0.25      , -0.2       ]])"
      ]
     },
     "execution_count": 7,
     "metadata": {},
     "output_type": "execute_result"
    }
   ],
   "source": [
    "x=np.arange(10)\n",
    "y=np.array([11,12,13,14])\n",
    "x=x.reshape((-1,1))\n",
    "c=x-y\n",
    "d=1.0/c\n",
    "d"
   ]
  },
  {
   "cell_type": "markdown",
   "metadata": {},
   "source": [
    "#### 33. Найти минимальное и максимальное значение, принимаемое каждым числовым типом numpy"
   ]
  },
  {
   "cell_type": "code",
   "execution_count": 8,
   "metadata": {},
   "outputs": [
    {
     "name": "stdout",
     "output_type": "stream",
     "text": [
      "-128\n",
      "127\n",
      "-2147483648\n",
      "2147483647\n",
      "-9223372036854775808\n",
      "9223372036854775807\n",
      "-3.4028235e+38\n",
      "3.4028235e+38\n",
      "-1.7976931348623157e+308\n",
      "1.7976931348623157e+308\n"
     ]
    }
   ],
   "source": [
    "for dtype in [np.int8, np.int32, np.int64]:\n",
    "   print(np.iinfo(dtype).min)\n",
    "   print(np.iinfo(dtype).max)\n",
    "for dtype in [np.float32, np.float64]:\n",
    "   print(np.finfo(dtype).min)\n",
    "   print(np.finfo(dtype).max)"
   ]
  },
  {
   "cell_type": "markdown",
   "metadata": {},
   "source": [
    "#### 34. Напечатать все значения в массиве"
   ]
  },
  {
   "cell_type": "code",
   "execution_count": 11,
   "metadata": {},
   "outputs": [
    {
     "name": "stdout",
     "output_type": "stream",
     "text": [
      "[[0. 0. 0. 0. 0. 0. 0. 0. 0. 0. 0. 0. 0. 0. 0. 0. 0. 0. 0. 0. 0. 0. 0. 0.\n",
      "  0.]\n",
      " [0. 0. 0. 0. 0. 0. 0. 0. 0. 0. 0. 0. 0. 0. 0. 0. 0. 0. 0. 0. 0. 0. 0. 0.\n",
      "  0.]\n",
      " [0. 0. 0. 0. 0. 0. 0. 0. 0. 0. 0. 0. 0. 0. 0. 0. 0. 0. 0. 0. 0. 0. 0. 0.\n",
      "  0.]\n",
      " [0. 0. 0. 0. 0. 0. 0. 0. 0. 0. 0. 0. 0. 0. 0. 0. 0. 0. 0. 0. 0. 0. 0. 0.\n",
      "  0.]\n",
      " [0. 0. 0. 0. 0. 0. 0. 0. 0. 0. 0. 0. 0. 0. 0. 0. 0. 0. 0. 0. 0. 0. 0. 0.\n",
      "  0.]\n",
      " [0. 0. 0. 0. 0. 0. 0. 0. 0. 0. 0. 0. 0. 0. 0. 0. 0. 0. 0. 0. 0. 0. 0. 0.\n",
      "  0.]\n",
      " [0. 0. 0. 0. 0. 0. 0. 0. 0. 0. 0. 0. 0. 0. 0. 0. 0. 0. 0. 0. 0. 0. 0. 0.\n",
      "  0.]\n",
      " [0. 0. 0. 0. 0. 0. 0. 0. 0. 0. 0. 0. 0. 0. 0. 0. 0. 0. 0. 0. 0. 0. 0. 0.\n",
      "  0.]\n",
      " [0. 0. 0. 0. 0. 0. 0. 0. 0. 0. 0. 0. 0. 0. 0. 0. 0. 0. 0. 0. 0. 0. 0. 0.\n",
      "  0.]\n",
      " [0. 0. 0. 0. 0. 0. 0. 0. 0. 0. 0. 0. 0. 0. 0. 0. 0. 0. 0. 0. 0. 0. 0. 0.\n",
      "  0.]\n",
      " [0. 0. 0. 0. 0. 0. 0. 0. 0. 0. 0. 0. 0. 0. 0. 0. 0. 0. 0. 0. 0. 0. 0. 0.\n",
      "  0.]\n",
      " [0. 0. 0. 0. 0. 0. 0. 0. 0. 0. 0. 0. 0. 0. 0. 0. 0. 0. 0. 0. 0. 0. 0. 0.\n",
      "  0.]\n",
      " [0. 0. 0. 0. 0. 0. 0. 0. 0. 0. 0. 0. 0. 0. 0. 0. 0. 0. 0. 0. 0. 0. 0. 0.\n",
      "  0.]\n",
      " [0. 0. 0. 0. 0. 0. 0. 0. 0. 0. 0. 0. 0. 0. 0. 0. 0. 0. 0. 0. 0. 0. 0. 0.\n",
      "  0.]\n",
      " [0. 0. 0. 0. 0. 0. 0. 0. 0. 0. 0. 0. 0. 0. 0. 0. 0. 0. 0. 0. 0. 0. 0. 0.\n",
      "  0.]\n",
      " [0. 0. 0. 0. 0. 0. 0. 0. 0. 0. 0. 0. 0. 0. 0. 0. 0. 0. 0. 0. 0. 0. 0. 0.\n",
      "  0.]\n",
      " [0. 0. 0. 0. 0. 0. 0. 0. 0. 0. 0. 0. 0. 0. 0. 0. 0. 0. 0. 0. 0. 0. 0. 0.\n",
      "  0.]\n",
      " [0. 0. 0. 0. 0. 0. 0. 0. 0. 0. 0. 0. 0. 0. 0. 0. 0. 0. 0. 0. 0. 0. 0. 0.\n",
      "  0.]\n",
      " [0. 0. 0. 0. 0. 0. 0. 0. 0. 0. 0. 0. 0. 0. 0. 0. 0. 0. 0. 0. 0. 0. 0. 0.\n",
      "  0.]\n",
      " [0. 0. 0. 0. 0. 0. 0. 0. 0. 0. 0. 0. 0. 0. 0. 0. 0. 0. 0. 0. 0. 0. 0. 0.\n",
      "  0.]\n",
      " [0. 0. 0. 0. 0. 0. 0. 0. 0. 0. 0. 0. 0. 0. 0. 0. 0. 0. 0. 0. 0. 0. 0. 0.\n",
      "  0.]\n",
      " [0. 0. 0. 0. 0. 0. 0. 0. 0. 0. 0. 0. 0. 0. 0. 0. 0. 0. 0. 0. 0. 0. 0. 0.\n",
      "  0.]\n",
      " [0. 0. 0. 0. 0. 0. 0. 0. 0. 0. 0. 0. 0. 0. 0. 0. 0. 0. 0. 0. 0. 0. 0. 0.\n",
      "  0.]\n",
      " [0. 0. 0. 0. 0. 0. 0. 0. 0. 0. 0. 0. 0. 0. 0. 0. 0. 0. 0. 0. 0. 0. 0. 0.\n",
      "  0.]\n",
      " [0. 0. 0. 0. 0. 0. 0. 0. 0. 0. 0. 0. 0. 0. 0. 0. 0. 0. 0. 0. 0. 0. 0. 0.\n",
      "  0.]]\n"
     ]
    }
   ],
   "source": [
    "np.set_printoptions(threshold=np.inf)\n",
    "Z = np.zeros((25,25))\n",
    "print(Z)"
   ]
  },
  {
   "cell_type": "markdown",
   "metadata": {},
   "source": [
    "#### 35. Найти ближайшее к заданному значению число в заданном массиве"
   ]
  },
  {
   "cell_type": "code",
   "execution_count": 19,
   "metadata": {},
   "outputs": [
    {
     "name": "stdout",
     "output_type": "stream",
     "text": [
      "[0 1 2 3 4 5 6 7 8 9]\n",
      "2.71828\n",
      "3\n"
     ]
    }
   ],
   "source": [
    "a=np.arange(10)\n",
    "print(a)\n",
    "n=2.71828\n",
    "print(n)\n",
    "c=(np.abs(a-n)).argmin()\n",
    "print(a[c])\n"
   ]
  },
  {
   "cell_type": "markdown",
   "metadata": {},
   "source": [
    "#### 36. Преобразовать массив из float в int"
   ]
  },
  {
   "cell_type": "code",
   "execution_count": 20,
   "metadata": {},
   "outputs": [
    {
     "data": {
      "text/plain": [
       "array([0., 1., 2., 3., 4., 5., 6., 7., 8., 9.], dtype=float32)"
      ]
     },
     "execution_count": 20,
     "metadata": {},
     "output_type": "execute_result"
    }
   ],
   "source": [
    "a=np.arange(10, dtype=np.int32)\n",
    "a=a.astype(np.float32, copy=False)\n",
    "a"
   ]
  },
  {
   "cell_type": "markdown",
   "metadata": {},
   "source": [
    "#### 37. Каков эквивалент функции enumerate для numpy массивов?"
   ]
  },
  {
   "cell_type": "code",
   "execution_count": 22,
   "metadata": {},
   "outputs": [
    {
     "name": "stdout",
     "output_type": "stream",
     "text": [
      "(0, 0) 1\n",
      "(0, 1) 2\n",
      "(0, 2) 4\n",
      "(1, 0) 3\n",
      "(1, 1) 4\n",
      "(1, 2) 8\n"
     ]
    }
   ],
   "source": [
    "#np.ndenumerate()\n",
    "a=np.array([[1, 2, 4], [3, 4, 8]])\n",
    "for y, x in np.ndenumerate(a):\n",
    "    print(y, x)"
   ]
  },
  {
   "cell_type": "markdown",
   "metadata": {},
   "source": [
    "#### 38. Случайно расположить p элементов в 2D массив"
   ]
  },
  {
   "cell_type": "code",
   "execution_count": 30,
   "metadata": {},
   "outputs": [
    {
     "data": {
      "text/plain": [
       "array([[1., 1., 1., 1., 1., 1.],\n",
       "       [0., 1., 1., 1., 1., 1.],\n",
       "       [1., 0., 1., 1., 1., 0.],\n",
       "       [1., 1., 1., 1., 1., 1.],\n",
       "       [1., 1., 1., 0., 1., 1.],\n",
       "       [1., 1., 1., 1., 1., 1.]])"
      ]
     },
     "execution_count": 30,
     "metadata": {},
     "output_type": "execute_result"
    }
   ],
   "source": [
    "a=np.ones((6,6))\n",
    "np.put(a, np.random.choice(range(36), 4, replace=False), 0)\n",
    "a"
   ]
  },
  {
   "cell_type": "markdown",
   "metadata": {},
   "source": [
    "#### 39. Отнять среднее из каждой строки в матрице"
   ]
  },
  {
   "cell_type": "code",
   "execution_count": 35,
   "metadata": {},
   "outputs": [
    {
     "name": "stdout",
     "output_type": "stream",
     "text": [
      "[[0.06596842 0.05249853 0.80264295]\n",
      " [0.37646407 0.07054242 0.70921604]]\n",
      "0.34622207302553315\n"
     ]
    },
    {
     "data": {
      "text/plain": [
       "array([[-0.28025365, -0.29372354,  0.45642088],\n",
       "       [ 0.030242  , -0.27567965,  0.36299397]])"
      ]
     },
     "execution_count": 35,
     "metadata": {},
     "output_type": "execute_result"
    }
   ],
   "source": [
    "a=np.random.rand(2, 3)\n",
    "print(a)\n",
    "print(a.mean())\n",
    "a-a.mean()"
   ]
  },
  {
   "cell_type": "markdown",
   "metadata": {},
   "source": [
    "#### 40. Отсортировать матрицу по n-ому столбцу"
   ]
  },
  {
   "cell_type": "code",
   "execution_count": 40,
   "metadata": {},
   "outputs": [
    {
     "name": "stdout",
     "output_type": "stream",
     "text": [
      "[[81 50 77 14 36]\n",
      " [14 34 94 96 86]\n",
      " [54 92 55 81 58]\n",
      " [72 80 33 21 35]\n",
      " [33 29 68 25 30]]\n",
      "[[33 29 68 25 30]\n",
      " [72 80 33 21 35]\n",
      " [81 50 77 14 36]\n",
      " [54 92 55 81 58]\n",
      " [14 34 94 96 86]]\n"
     ]
    }
   ],
   "source": [
    "a=np.random.randint(10,100,(5,5))\n",
    "print(a)\n",
    "print(a[a[:,4].argsort()])"
   ]
  },
  {
   "cell_type": "markdown",
   "metadata": {},
   "source": [
    "#### 41. Определить, есть ли в 2D массиве нулевые столбцы"
   ]
  },
  {
   "cell_type": "code",
   "execution_count": 44,
   "metadata": {},
   "outputs": [
    {
     "name": "stdout",
     "output_type": "stream",
     "text": [
      "[[4 9 3 9 2 0 1 9 7 5]\n",
      " [2 5 5 4 8 4 5 2 9 4]\n",
      " [6 4 0 0 0 9 4 6 5 0]\n",
      " [5 1 9 4 5 5 9 4 5 3]\n",
      " [4 0 5 1 7 4 2 6 2 1]\n",
      " [9 4 2 3 5 8 8 2 9 6]\n",
      " [0 7 1 6 7 5 7 1 7 7]\n",
      " [2 5 7 5 9 4 8 7 4 4]\n",
      " [5 9 6 2 7 8 0 0 2 9]\n",
      " [6 6 6 1 1 5 7 7 9 3]]\n",
      "False\n"
     ]
    }
   ],
   "source": [
    "a=np.random.randint(0,10,(10,10))\n",
    "print(a)\n",
    "print((~a.any(axis=0)).any())"
   ]
  },
  {
   "cell_type": "markdown",
   "metadata": {},
   "source": [
    "#### 42. Дан массив, добавить 1 к каждому элементу с индексом, заданным в другом массиве (осторожно с повторами)"
   ]
  },
  {
   "cell_type": "code",
   "execution_count": 51,
   "metadata": {},
   "outputs": [
    {
     "name": "stdout",
     "output_type": "stream",
     "text": [
      "[1. 1. 1. 1. 1. 1. 1. 1. 1. 1. 1. 1. 1. 1. 1. 1. 1. 1. 1. 1.]\n",
      "[17 18 18  8  3 11  5 17 17 12 10  8  7  0  1 15  4  7  0 19]\n",
      "[3. 2. 1. 2. 2. 2. 1. 3. 3. 1. 2. 2. 2. 1. 1. 2. 1. 4. 3. 2.]\n"
     ]
    }
   ],
   "source": [
    "a=np.ones(20)\n",
    "print(a)\n",
    "b=np.random.randint(0,len(a),len(a))\n",
    "print(b)\n",
    "a+=np.bincount(b, minlength=len(a))\n",
    "print(a)"
   ]
  },
  {
   "cell_type": "markdown",
   "metadata": {},
   "source": [
    "#### 43. Дан массив (w,h,3) (картинка) dtype=ubyte, посчитать количество различных цветов"
   ]
  },
  {
   "cell_type": "code",
   "execution_count": null,
   "metadata": {},
   "outputs": [],
   "source": []
  },
  {
   "cell_type": "markdown",
   "metadata": {},
   "source": [
    "#### 44. Дан четырехмерный массив, посчитать сумму по последним двум осям"
   ]
  },
  {
   "cell_type": "code",
   "execution_count": 69,
   "metadata": {},
   "outputs": [
    {
     "name": "stdout",
     "output_type": "stream",
     "text": [
      "[[[[53 31 26 82]\n",
      "   [ 6 89 90 53]\n",
      "   [87 80 11  8]\n",
      "   [ 1 88 37 44]]\n",
      "\n",
      "  [[37  3  9 87]\n",
      "   [64 47 24 28]\n",
      "   [80 51 41 43]\n",
      "   [99 79 96 13]]\n",
      "\n",
      "  [[10 50 99 44]\n",
      "   [51  0 31 56]\n",
      "   [42 17  9 88]\n",
      "   [63 20 87 11]]\n",
      "\n",
      "  [[10 74 14 94]\n",
      "   [36 11 26 62]\n",
      "   [43 67 56 34]\n",
      "   [48 99 23 94]]]\n",
      "\n",
      "\n",
      " [[[62 19 30 75]\n",
      "   [43 41 41 70]\n",
      "   [ 4 44 21 16]\n",
      "   [57 95 41 37]]\n",
      "\n",
      "  [[63 83 27 33]\n",
      "   [34 50 92 38]\n",
      "   [83 73 97 97]\n",
      "   [26 14 28 15]]\n",
      "\n",
      "  [[18 53 89 62]\n",
      "   [57 56  4 68]\n",
      "   [ 1 73 84  5]\n",
      "   [10 56 69 32]]\n",
      "\n",
      "  [[ 0 28 10 56]\n",
      "   [46 45 89 86]\n",
      "   [93 18  2 30]\n",
      "   [29 99 66 55]]]\n",
      "\n",
      "\n",
      " [[[99 32 13 10]\n",
      "   [97 57 15  5]\n",
      "   [88 86 68 49]\n",
      "   [63 85 31 13]]\n",
      "\n",
      "  [[ 6 46 20 96]\n",
      "   [15 99 48 59]\n",
      "   [38 74 18 39]\n",
      "   [51 79 72 56]]\n",
      "\n",
      "  [[56 18 94 60]\n",
      "   [ 3 52 63  4]\n",
      "   [ 3 50 71 35]\n",
      "   [10 93  1 76]]\n",
      "\n",
      "  [[ 2  4 40 38]\n",
      "   [87 48 59  0]\n",
      "   [14 32 29 95]\n",
      "   [11 85 83  7]]]\n",
      "\n",
      "\n",
      " [[[75 20 29 75]\n",
      "   [ 7 72 44 95]\n",
      "   [86 98 88 11]\n",
      "   [82 77  1 95]]\n",
      "\n",
      "  [[75  0 11 58]\n",
      "   [ 2 33 62 15]\n",
      "   [39  9 14 53]\n",
      "   [57 79 31 99]]\n",
      "\n",
      "  [[84 89 55 23]\n",
      "   [55 98 12 12]\n",
      "   [61  0 19  8]\n",
      "   [78 65 39 76]]\n",
      "\n",
      "  [[26  9 45  8]\n",
      "   [65 25 31 25]\n",
      "   [23 45 18 19]\n",
      "   [91 92 24 65]]]]\n"
     ]
    },
    {
     "data": {
      "text/plain": [
       "array([[786, 801, 678, 791],\n",
       "       [696, 853, 737, 752],\n",
       "       [811, 816, 689, 634],\n",
       "       [955, 637, 774, 611]])"
      ]
     },
     "execution_count": 69,
     "metadata": {},
     "output_type": "execute_result"
    }
   ],
   "source": [
    "a=np.random.randint(0,100,(4,4,4,4))\n",
    "print(a)\n",
    "a.reshape(a.shape[:-2] + (-1,)).sum(axis=-1)"
   ]
  },
  {
   "cell_type": "code",
   "execution_count": null,
   "metadata": {},
   "outputs": [],
   "source": []
  }
 ],
 "metadata": {
  "kernelspec": {
   "display_name": "Python 3",
   "language": "python",
   "name": "python3"
  },
  "language_info": {
   "codemirror_mode": {
    "name": "ipython",
    "version": 3
   },
   "file_extension": ".py",
   "mimetype": "text/x-python",
   "name": "python",
   "nbconvert_exporter": "python",
   "pygments_lexer": "ipython3",
   "version": "3.7.3"
  }
 },
 "nbformat": 4,
 "nbformat_minor": 1
}
